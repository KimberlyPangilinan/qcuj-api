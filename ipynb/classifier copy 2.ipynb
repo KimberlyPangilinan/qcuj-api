{
 "cells": [
  {
   "cell_type": "markdown",
   "metadata": {},
   "source": [
    "# setup"
   ]
  },
  {
   "cell_type": "code",
   "execution_count": 1,
   "metadata": {},
   "outputs": [],
   "source": [
    "# https://nlp.stanford.edu/projects/glove/"
   ]
  },
  {
   "cell_type": "code",
   "execution_count": 2,
   "metadata": {},
   "outputs": [],
   "source": [
    "import os\n",
    "from flask import Flask, request, jsonify\n",
    "from flask_cors import CORS \n",
    "# import pandas as pd\n",
    "from sklearn.metrics.pairwise import cosine_similarity\n",
    "from nltk.corpus import stopwords\n",
    "import nltk\n",
    "import pymysql\n",
    "import numpy as np\n",
    "import datetime\n",
    "\n",
    "from dotenv import load_dotenv"
   ]
  },
  {
   "cell_type": "code",
   "execution_count": 3,
   "metadata": {},
   "outputs": [
    {
     "name": "stderr",
     "output_type": "stream",
     "text": [
      "[nltk_data] Downloading package stopwords to\n",
      "[nltk_data]     C:\\Users\\kimbe\\AppData\\Roaming\\nltk_data...\n",
      "[nltk_data]   Package stopwords is already up-to-date!\n"
     ]
    },
    {
     "ename": "UnicodeDecodeError",
     "evalue": "'charmap' codec can't decode byte 0x9d in position 2313: character maps to <undefined>",
     "output_type": "error",
     "traceback": [
      "\u001b[1;31m---------------------------------------------------------------------------\u001b[0m",
      "\u001b[1;31mUnicodeDecodeError\u001b[0m                        Traceback (most recent call last)",
      "Cell \u001b[1;32mIn[3], line 84\u001b[0m\n\u001b[0;32m     82\u001b[0m csvFile \u001b[38;5;241m=\u001b[39m csv\u001b[38;5;241m.\u001b[39mreader(file)\n\u001b[0;32m     83\u001b[0m \u001b[38;5;28mnext\u001b[39m(csvFile)\n\u001b[1;32m---> 84\u001b[0m \u001b[38;5;28;01mfor\u001b[39;00m i,lines \u001b[38;5;129;01min\u001b[39;00m \u001b[38;5;28menumerate\u001b[39m(csvFile):\n\u001b[0;32m     85\u001b[0m       \u001b[38;5;28;01mif\u001b[39;00m \u001b[38;5;28mlen\u001b[39m(lines) \u001b[38;5;241m==\u001b[39m \u001b[38;5;241m0\u001b[39m: \u001b[38;5;28;01mcontinue\u001b[39;00m\n\u001b[0;32m     86\u001b[0m       temp \u001b[38;5;241m=\u001b[39m lines[\u001b[38;5;241m1\u001b[39m]\u001b[38;5;241m.\u001b[39mlower()\u001b[38;5;241m.\u001b[39msplit(\u001b[38;5;124m\"\u001b[39m\u001b[38;5;124m \u001b[39m\u001b[38;5;124m\"\u001b[39m)\n",
      "File \u001b[1;32mc:\\Users\\kimbe\\AppData\\Local\\Programs\\Python\\Python311\\Lib\\encodings\\cp1252.py:23\u001b[0m, in \u001b[0;36mIncrementalDecoder.decode\u001b[1;34m(self, input, final)\u001b[0m\n\u001b[0;32m     22\u001b[0m \u001b[38;5;28;01mdef\u001b[39;00m \u001b[38;5;21mdecode\u001b[39m(\u001b[38;5;28mself\u001b[39m, \u001b[38;5;28minput\u001b[39m, final\u001b[38;5;241m=\u001b[39m\u001b[38;5;28;01mFalse\u001b[39;00m):\n\u001b[1;32m---> 23\u001b[0m     \u001b[38;5;28;01mreturn\u001b[39;00m codecs\u001b[38;5;241m.\u001b[39mcharmap_decode(\u001b[38;5;28minput\u001b[39m,\u001b[38;5;28mself\u001b[39m\u001b[38;5;241m.\u001b[39merrors,decoding_table)[\u001b[38;5;241m0\u001b[39m]\n",
      "\u001b[1;31mUnicodeDecodeError\u001b[0m: 'charmap' codec can't decode byte 0x9d in position 2313: character maps to <undefined>"
     ]
    }
   ],
   "source": [
    "\n",
    "app = Flask(__name__)\n",
    "app.json.sort_keys = False\n",
    "CORS(app) \n",
    "\n",
    "db = pymysql.connect(\n",
    "    host=os.getenv('DATABASE_HOST'),\n",
    "    user=os.getenv('DATABASE_USER'),\n",
    "    password=os.getenv('DATABASE_PASSWORD'),\n",
    "    db=os.getenv('DATABASE_DB'),\n",
    "    connect_timeout=8800,\n",
    "    cursorclass=pymysql.cursors.DictCursor\n",
    ")\n",
    "sql_query= \"\"\"\n",
    "            SELECT \n",
    "                article_id, \n",
    "                title,\n",
    "                abstract, \n",
    "                journal_id, \n",
    "                keyword,\n",
    "                status\n",
    "            FROM \n",
    "                article \n",
    "            WHERE status = 1\n",
    "           \"\"\"\n",
    "db.ping(reconnect=True)\n",
    "cursor = db.cursor()\n",
    "cursor.execute(sql_query)\n",
    "data = cursor.fetchall()\n",
    "\n",
    "\n",
    "id = [row['article_id'] for row in data]\n",
    "# overviews_orig = [row['abstract'] for row in data]\n",
    "overviews = [row['abstract'] for row in data]\n",
    "titles = [row['title'] for row in data] \n",
    "# titles_orig = [row['title']  for row in data] \n",
    "# author = [row['author']  for row in data] \n",
    "# keyword = [row['keyword']  for row in data] \n",
    "# date = [row['date']  for row in data] \n",
    "\n",
    "labels = [sub['journal_id'] - 1 for sub in data]\n",
    "\n",
    "# Preprocessing\n",
    "nltk.download(\"stopwords\")\n",
    "stop_words = set(stopwords.words(\"english\"))\n",
    "\n",
    "for n, name in enumerate(overviews):\n",
    "    temp = name.lower().split(\" \")\n",
    "    temp = [''.join([letter for letter in word if letter.isalpha()]) for word in temp]\n",
    "    temp = [word for word in temp if word not in stop_words]\n",
    "    temp = ' '.join(temp)\n",
    "    overviews[n] = temp\n",
    "    \n",
    "for n, title in enumerate(titles):\n",
    "    temp = title.lower().split(\" \")\n",
    "    temp = [''.join([letter for letter in word if letter.isalpha()]) for word in temp]\n",
    "    temp = [word for word in temp if word not in stop_words]\n",
    "    temp = ' '.join(temp)\n",
    "    titles[n] = temp\n",
    "    \n",
    "# Calculate cosine similarity\n",
    "    from sklearn.feature_extraction.text import CountVectorizer\n",
    "\n",
    "    vectorizer = CountVectorizer().fit(overviews + titles)\n",
    "    # Calculate cosine similarity for overviews\n",
    "    vectorizer_overviews = vectorizer.transform(overviews)\n",
    "    cosine_sim_overviews = cosine_similarity(vectorizer_overviews)\n",
    "\n",
    "    # Calculate cosine similarity for titles\n",
    "    vectorizer_titles =  vectorizer.transform(titles)\n",
    "    cosine_sim_titles = cosine_similarity(vectorizer_titles)\n",
    "    \n",
    "    article_id_to_index = {}  # Create an empty mapping\n",
    "    for index, article_id in enumerate(id):\n",
    "        article_id_to_index[article_id] = index\n",
    "\n",
    "import csv\n",
    "\n",
    "csv_overviews = []\n",
    "csv_titles = []\n",
    "csv_labels = []\n",
    "with open('data/mdpi2.csv', mode ='r',encoding=\"utf-8\")as file:\n",
    "  csvFile = csv.reader(file)\n",
    "  next(csvFile)\n",
    "  for i,lines in enumerate(csvFile):\n",
    "        if len(lines) == 0: continue\n",
    "        temp = lines[1].lower().split(\" \")\n",
    "        temp = [''.join([letter for letter in word if letter.isalpha()]) for word in temp]\n",
    "        temp = [word for word in temp if word not in stop_words]\n",
    "        temp = ' '.join(temp)\n",
    "        csv_overviews.append(temp)\n",
    "\n",
    "        temp = lines[0].lower().split(\" \")\n",
    "        temp = [''.join([letter for letter in word if letter.isalpha()]) for word in temp]\n",
    "        temp = [word for word in temp if word not in stop_words]\n",
    "        temp = ' '.join(temp)\n",
    "        csv_titles.append(temp)\n",
    "\n",
    "        csv_labels.append(int(lines[2])-1)\n"
   ]
  },
  {
   "cell_type": "code",
   "execution_count": null,
   "metadata": {},
   "outputs": [],
   "source": []
  },
  {
   "cell_type": "code",
   "execution_count": null,
   "metadata": {},
   "outputs": [
    {
     "name": "stdout",
     "output_type": "stream",
     "text": [
      "0 32\n",
      "1 22\n",
      "2 121\n"
     ]
    }
   ],
   "source": [
    "# journals = np.array([d['journal_id'] for d in data])\n",
    "journal_name, counts = np.unique(labels, return_counts=True)\n",
    "for i in range(len(counts)):\n",
    "    print(journal_name[i], counts[i])"
   ]
  },
  {
   "cell_type": "code",
   "execution_count": null,
   "metadata": {},
   "outputs": [
    {
     "name": "stdout",
     "output_type": "stream",
     "text": [
      "175\n",
      "175\n",
      "175\n"
     ]
    }
   ],
   "source": [
    "print(len(titles))\n",
    "print(len(overviews))\n",
    "print(len(labels))"
   ]
  },
  {
   "cell_type": "code",
   "execution_count": null,
   "metadata": {},
   "outputs": [
    {
     "name": "stdout",
     "output_type": "stream",
     "text": [
      "0 160\n",
      "1 160\n",
      "2 150\n"
     ]
    }
   ],
   "source": [
    "# journals = np.array([d['journal_id'] for d in data])\n",
    "journal_name, counts = np.unique(csv_labels, return_counts=True)\n",
    "for i in range(len(counts)):\n",
    "    print(journal_name[i], counts[i])"
   ]
  },
  {
   "cell_type": "code",
   "execution_count": null,
   "metadata": {},
   "outputs": [
    {
     "name": "stdout",
     "output_type": "stream",
     "text": [
      "470\n",
      "470\n",
      "470\n"
     ]
    }
   ],
   "source": [
    "print(len(csv_titles))\n",
    "print(len(csv_overviews))\n",
    "print(len(csv_labels))"
   ]
  },
  {
   "cell_type": "markdown",
   "metadata": {},
   "source": [
    "# LSTM Classifier"
   ]
  },
  {
   "cell_type": "markdown",
   "metadata": {},
   "source": [
    "## Development stage"
   ]
  },
  {
   "cell_type": "markdown",
   "metadata": {},
   "source": [
    "### preprocessing and training"
   ]
  },
  {
   "cell_type": "code",
   "execution_count": null,
   "metadata": {},
   "outputs": [],
   "source": [
    "import random\n",
    "import numpy as np\n",
    "import tensorflow as tf\n",
    "from sklearn.preprocessing import LabelEncoder\n",
    "from tensorflow.keras.preprocessing.text import Tokenizer\n",
    "from tensorflow.keras.preprocessing.sequence import pad_sequences\n",
    "from tensorflow.keras import optimizers\n",
    "from tensorflow.keras.callbacks import ReduceLROnPlateau, EarlyStopping\n",
    "import matplotlib.pyplot as plt\n",
    "import random\n",
    "import os\n",
    "from imblearn.over_sampling  import RandomOverSampler\n"
   ]
  },
  {
   "cell_type": "code",
   "execution_count": null,
   "metadata": {},
   "outputs": [],
   "source": [
    "EMBEDDING_DIM = 100\n",
    "MAXLEN = 200\n",
    "TRUNCATING = 'post'\n",
    "PADDING = 'post'\n",
    "OOV_TOKEN = \"<OOV>\"\n",
    "# MAX_EXAMPLES = 160000\n",
    "TRAINING_SPLIT = 0.8"
   ]
  },
  {
   "cell_type": "code",
   "execution_count": null,
   "metadata": {},
   "outputs": [],
   "source": []
  },
  {
   "cell_type": "code",
   "execution_count": null,
   "metadata": {},
   "outputs": [],
   "source": [
    "\n",
    "# # Your existing code to create the sentences_and_labels list\n",
    "# # labels = [ '_'.join(sub['journal'].split(' ')) for n, sub in enumerate(data) ]\n",
    "# labels = [sub['journal_id'] - 1 for sub in data]\n",
    "# sentences_and_labels = list(zip(overviews, labels))\n",
    "\n",
    "# # Create a dictionary to keep track of the count for each label\n",
    "# label_count = {}\n",
    "\n",
    "# # Filter the sentences_and_labels list to include only 30 instances for each label\n",
    "# filtered_sentences_and_labels = []\n",
    "# for sentence, label in sentences_and_labels:\n",
    "#     if label not in label_count:\n",
    "#         label_count[label] = 0\n",
    "\n",
    "#     if label_count[label] < 30:\n",
    "#         sentences_and_labels.append((sentence, label))\n",
    "#         label_count[label] += 1\n",
    "\n",
    "# # Perform random sampling on the filtered list\n",
    "# random.seed(42)\n",
    "# sentences_and_labels = random.sample(sentences_and_labels, len(overviews))\n",
    "\n",
    "# # Unpack back into separate lists\n",
    "# sentences, labels = zip(*sentences_and_labels)\n",
    "\n",
    "# print(f\"There are {len(sentences)} sentences and {len(labels)} labels\\n\")\n",
    "# print(labels)\n",
    "\n"
   ]
  },
  {
   "cell_type": "code",
   "execution_count": null,
   "metadata": {},
   "outputs": [],
   "source": [
    "# title + overviews\n",
    "for i in range(len(overviews)):\n",
    "    overviews[i] = overviews[i] + ' ' + titles[i]"
   ]
  },
  {
   "cell_type": "code",
   "execution_count": null,
   "metadata": {},
   "outputs": [],
   "source": [
    "# title + overviews\n",
    "for i in range(len(csv_overviews)):\n",
    "    csv_overviews[i] = csv_overviews[i] + ' ' + csv_titles[i]"
   ]
  },
  {
   "cell_type": "code",
   "execution_count": null,
   "metadata": {},
   "outputs": [
    {
     "data": {
      "text/plain": [
       "'call center agents work telephone call center receive calls customers inquiring product service make outgoing calls current potential customers must assist customers variety areas including billing service issues orders log calls made received enter customer data specialized database additional responsibilities sales customer retention performed computer workstation cubicle agents call center majority work utilizes computers software applications internet essential existence call centers issue hand whether labor productivity tradeoffs whether human labor replaced technology light paper discuss factors contribute labor productivity call center agents metro manila resulting increase employment despite reliance technology others believed technological progress paved way replacement human labor thereby decreasing number employed people increasing unemployment unobserved papers findings direct relationship increase labor productivity rise unemployment study authors employed qualitative research characteristics relationship researcher participant qualitative research always gathers verbal openended information former students udms marketing course participants currently employed metro manila marketers paper agents call center demonstrated human labor still master technology efforts required produce output services labor productivity equals sum human labor labor resources technological innovation capital expenditures addressing trade offs labor productivity employment among call center agents metro manila'"
      ]
     },
     "execution_count": 1037,
     "metadata": {},
     "output_type": "execute_result"
    }
   ],
   "source": [
    "overviews[0]"
   ]
  },
  {
   "cell_type": "code",
   "execution_count": null,
   "metadata": {},
   "outputs": [
    {
     "data": {
      "text/plain": [
       "'qualitative study examines educational management practices municipality thailand evaluating current delivery special educational services underlying principles rooted value cocreation vcca business concept often employed enhance engagement participation aim creating mutual value studys objective identify gaps reallife practices research methodology encompasses indepth interviews key stakeholders focus group discussions involving school board members parents content analysis extract core concepts policy recommendations studys findings reveal municipality increasingly recognizing potential vcc enhancing student outcomes particularly special educational needs however challenges stemming schools financial constraints influx students lower socioeconomic backgrounds impede full realization vcc principles consequently crucial government prioritize alignment vcc strategies special education achieved considering reengineering education budget allocation making investments whether direct indirect support vcc process measures essential promote evolution vcc sustain special educational service operations effectivelyfull article value cocreation strategy enhancing inclusiveness special education'"
      ]
     },
     "execution_count": 1038,
     "metadata": {},
     "output_type": "execute_result"
    }
   ],
   "source": [
    "csv_overviews[0]"
   ]
  },
  {
   "cell_type": "code",
   "execution_count": null,
   "metadata": {},
   "outputs": [],
   "source": [
    "# Bundle the two lists into a single one\n",
    "# labels = [ '_'.join(sub['journal'].split(' ')) for n,sub in enumerate(data) ]\n",
    "# labels = [sub['journal_id'] - 1 for sub in data]\n",
    "# for n,overview in enumerate(overviews):\n",
    "#     overviews[n] += overview + titles[n]\n",
    "\n",
    "\n",
    "SET0, SET1, SET2 = [],[],[]\n",
    "for i,label in enumerate(labels):\n",
    "    if(label==0): SET0.append(overviews[i])\n",
    "    if(label==1): SET1.append(overviews[i])\n",
    "    if(label==2): SET2.append(overviews[i])\n",
    "\n",
    "    "
   ]
  },
  {
   "cell_type": "code",
   "execution_count": null,
   "metadata": {},
   "outputs": [],
   "source": [
    "# Bundle the two lists into a single one\n",
    "# labels = [ '_'.join(sub['journal'].split(' ')) for n,sub in enumerate(data) ]\n",
    "# labels = [sub['journal_id'] - 1 for sub in data]\n",
    "# for n,overview in enumerate(overviews):\n",
    "#     overviews[n] += overview + titles[n]\n",
    "\n",
    "\n",
    "CSV_SET0, CSV_SET1, CSV_SET2 = [],[],[]\n",
    "for i,label in enumerate(csv_labels):\n",
    "    if(label==0): CSV_SET0.append(csv_overviews[i])\n",
    "    if(label==1): CSV_SET1.append(csv_overviews[i])\n",
    "    if(label==2): CSV_SET2.append(csv_overviews[i])\n",
    "\n",
    "    "
   ]
  },
  {
   "cell_type": "code",
   "execution_count": null,
   "metadata": {},
   "outputs": [
    {
     "name": "stdout",
     "output_type": "stream",
     "text": [
      "32\n",
      "22\n",
      "121\n"
     ]
    }
   ],
   "source": [
    "print(len(SET0))\n",
    "print(len(SET1))\n",
    "print(len(SET2))"
   ]
  },
  {
   "cell_type": "code",
   "execution_count": null,
   "metadata": {},
   "outputs": [
    {
     "name": "stdout",
     "output_type": "stream",
     "text": [
      "160\n",
      "160\n",
      "150\n"
     ]
    }
   ],
   "source": [
    "print(len(CSV_SET0))\n",
    "print(len(CSV_SET1))\n",
    "print(len(CSV_SET2))"
   ]
  },
  {
   "cell_type": "code",
   "execution_count": null,
   "metadata": {},
   "outputs": [
    {
     "data": {
      "text/plain": [
       "[2,\n",
       " 2,\n",
       " 2,\n",
       " 2,\n",
       " 2,\n",
       " 2,\n",
       " 2,\n",
       " 2,\n",
       " 2,\n",
       " 2,\n",
       " 2,\n",
       " 2,\n",
       " 2,\n",
       " 2,\n",
       " 2,\n",
       " 2,\n",
       " 2,\n",
       " 2,\n",
       " 2,\n",
       " 2,\n",
       " 2,\n",
       " 2,\n",
       " 2,\n",
       " 2,\n",
       " 2,\n",
       " 2,\n",
       " 2,\n",
       " 2,\n",
       " 2,\n",
       " 2,\n",
       " 2,\n",
       " 2,\n",
       " 2,\n",
       " 2,\n",
       " 2,\n",
       " 2,\n",
       " 2,\n",
       " 2,\n",
       " 2,\n",
       " 2,\n",
       " 2,\n",
       " 2,\n",
       " 2,\n",
       " 2,\n",
       " 2,\n",
       " 2,\n",
       " 2,\n",
       " 2,\n",
       " 2,\n",
       " 2,\n",
       " 2,\n",
       " 2,\n",
       " 2,\n",
       " 2,\n",
       " 2,\n",
       " 2,\n",
       " 2,\n",
       " 2,\n",
       " 2,\n",
       " 2,\n",
       " 2,\n",
       " 2,\n",
       " 2,\n",
       " 2,\n",
       " 2,\n",
       " 2,\n",
       " 2,\n",
       " 2,\n",
       " 2,\n",
       " 2,\n",
       " 2,\n",
       " 2,\n",
       " 2,\n",
       " 2,\n",
       " 2,\n",
       " 2,\n",
       " 2,\n",
       " 2,\n",
       " 2,\n",
       " 2,\n",
       " 2,\n",
       " 2,\n",
       " 2,\n",
       " 2,\n",
       " 2,\n",
       " 2,\n",
       " 2,\n",
       " 2,\n",
       " 2,\n",
       " 2,\n",
       " 2,\n",
       " 2,\n",
       " 2,\n",
       " 2,\n",
       " 2,\n",
       " 2,\n",
       " 2,\n",
       " 2,\n",
       " 2,\n",
       " 2,\n",
       " 2,\n",
       " 2,\n",
       " 2,\n",
       " 2,\n",
       " 2,\n",
       " 2,\n",
       " 2,\n",
       " 2,\n",
       " 2,\n",
       " 2,\n",
       " 2,\n",
       " 2,\n",
       " 2,\n",
       " 2,\n",
       " 2,\n",
       " 2,\n",
       " 2,\n",
       " 2,\n",
       " 2,\n",
       " 2,\n",
       " 2,\n",
       " 2,\n",
       " 2,\n",
       " 2,\n",
       " 2,\n",
       " 2,\n",
       " 2,\n",
       " 2,\n",
       " 2,\n",
       " 2,\n",
       " 2,\n",
       " 2,\n",
       " 2,\n",
       " 2,\n",
       " 2,\n",
       " 2,\n",
       " 2,\n",
       " 2,\n",
       " 2,\n",
       " 2,\n",
       " 2,\n",
       " 2,\n",
       " 2,\n",
       " 2,\n",
       " 2,\n",
       " 2,\n",
       " 2,\n",
       " 2,\n",
       " 2,\n",
       " 2]"
      ]
     },
     "execution_count": 1043,
     "metadata": {},
     "output_type": "execute_result"
    }
   ],
   "source": [
    "from sklearn.utils import resample\n",
    "## Downsample SET0 and SET2 to match numbers of least SET1\n",
    "n_samples = len(SET1)\n",
    "TARGET = 3000\n",
    "\n",
    "\n",
    "# SET0_downsample = SET0\n",
    "CSV_SET0_downsample = resample(CSV_SET0,\n",
    "             replace=True,\n",
    "             n_samples=150-len(SET0),\n",
    "             random_state=42)\n",
    "CSV_SET0_LABELS = [0 for i in range(len(CSV_SET0_downsample))]\n",
    "\n",
    "\n",
    "# CSV_SET1_downsample = CSV_SET1\n",
    "CSV_SET1_downsample = resample(SET1,\n",
    "             replace=True,\n",
    "             n_samples=150-len(SET1),\n",
    "             random_state=42)\n",
    "CSV_SET1_LABELS = [1 for i in range(len(CSV_SET1_downsample))]\n",
    "\n",
    "# SET2_downsample = SET2\n",
    "CSV_SET2_downsample = resample(CSV_SET2,\n",
    "             replace=True,\n",
    "             n_samples=150-len(SET2),\n",
    "             random_state=42)\n",
    "CSV_SET2_LABELS = [2 for i in range(len(CSV_SET2_downsample))]\n",
    "\n",
    "SET0.extend(CSV_SET0_downsample)\n",
    "SET1.extend(CSV_SET1_downsample)\n",
    "SET2.extend(CSV_SET2_downsample)\n",
    "\n",
    "SET0_LABELS = [0 for i in range(len(SET0))]\n",
    "SET1_LABELS = [1 for i in range(len(SET1))]\n",
    "SET2_LABELS = [2 for i in range(len(SET2))]\n",
    "SET0_LABELS#.extend(CSV_SET0_LABELS)\n",
    "SET1_LABELS#.extend(CSV_SET1_LABELS)\n",
    "SET2_LABELS#.extend(CSV_SET2_LABELS)"
   ]
  },
  {
   "cell_type": "code",
   "execution_count": null,
   "metadata": {},
   "outputs": [
    {
     "name": "stdout",
     "output_type": "stream",
     "text": [
      "150\n",
      "150\n",
      "150\n",
      "150\n",
      "150\n",
      "150\n"
     ]
    }
   ],
   "source": [
    "print(len(SET0))\n",
    "print(len(SET1))\n",
    "print(len(SET2))\n",
    "\n",
    "print(len(SET0_LABELS))\n",
    "print(len(SET1_LABELS))\n",
    "print(len(SET2_LABELS))"
   ]
  },
  {
   "cell_type": "code",
   "execution_count": null,
   "metadata": {},
   "outputs": [],
   "source": [
    "FINALSET = []\n",
    "FINALSET.extend(SET0)\n",
    "FINALSET.extend(SET1)\n",
    "FINALSET.extend(SET2)\n",
    "\n",
    "FINALSET_LABELS = []\n",
    "FINALSET_LABELS.extend(SET0_LABELS)\n",
    "FINALSET_LABELS.extend(SET1_LABELS)\n",
    "FINALSET_LABELS.extend(SET2_LABELS)"
   ]
  },
  {
   "cell_type": "code",
   "execution_count": null,
   "metadata": {},
   "outputs": [
    {
     "name": "stdout",
     "output_type": "stream",
     "text": [
      "[0 1 2]\n"
     ]
    }
   ],
   "source": [
    "print(np.unique(np.array(FINALSET_LABELS)))"
   ]
  },
  {
   "cell_type": "code",
   "execution_count": null,
   "metadata": {},
   "outputs": [
    {
     "data": {
      "text/plain": [
       "int"
      ]
     },
     "execution_count": 1047,
     "metadata": {},
     "output_type": "execute_result"
    }
   ],
   "source": [
    "type(FINALSET_LABELS[-1])"
   ]
  },
  {
   "cell_type": "code",
   "execution_count": null,
   "metadata": {},
   "outputs": [
    {
     "name": "stdout",
     "output_type": "stream",
     "text": [
      "There are 450 sentences and 450 labels\n",
      "\n"
     ]
    }
   ],
   "source": [
    "import random\n",
    "import sklearn\n",
    "\n",
    "sentences_and_labels = list(zip(FINALSET, FINALSET_LABELS))\n",
    "\n",
    "# # Perform random sampling\n",
    "random.seed(26)\n",
    "random.shuffle(sentences_and_labels)\n",
    "\n",
    "# Unpack back into separate lists\n",
    "sentences, labels = zip(*sentences_and_labels)\n",
    "\n",
    "print(f\"There are {len(sentences)} sentences and {len(labels)} labels\\n\")"
   ]
  },
  {
   "cell_type": "code",
   "execution_count": null,
   "metadata": {},
   "outputs": [],
   "source": [
    "# import sklearn\n",
    "# arr_1_shuffled, arr_2_shuffled = sklearn.utils.shuffle(FINALSET, FINALSET_LABELS)"
   ]
  },
  {
   "cell_type": "code",
   "execution_count": null,
   "metadata": {},
   "outputs": [],
   "source": [
    "def train_val_split(sentences, labels, training_split):\n",
    "    \"\"\"\n",
    "    Splits the dataset into training and validation sets\n",
    "    \n",
    "    Args:\n",
    "        sentences (list of string): lower-cased sentences without stopwords\n",
    "        labels (list of string): list of labels\n",
    "        training split (float): proportion of the dataset to convert to include in the train set\n",
    "    \n",
    "    Returns:\n",
    "        train_sentences, validation_sentences, train_labels, validation_labels - lists containing the data splits\n",
    "    \"\"\"    \n",
    "    ### START CODE HERE\n",
    "    \n",
    "    # Compute the number of sentences that will be used for training (should be an integer)\n",
    "    train_size = int(len(sentences)*training_split)\n",
    "\n",
    "    ## Shuffle Lists\n",
    "    temp = list(zip(sentences,labels))\n",
    "    random.shuffle(temp)\n",
    "    sentences,labels = zip(*temp)\n",
    "\n",
    "    # Convert labels strings to integers\n",
    "    # labels = label_encoder.fit_transform(labels)\n",
    "\n",
    "    # Split the sentences and labels into train/validation splits\n",
    "    train_sentences = sentences[:train_size]\n",
    "    train_labels = labels[:train_size]\n",
    "\n",
    "    validation_sentences = sentences[train_size:]\n",
    "    validation_labels = labels[train_size:]\n",
    "    \n",
    "    ### END CODE HERE\n",
    "    \n",
    "    return train_sentences, validation_sentences, train_labels, validation_labels"
   ]
  },
  {
   "cell_type": "code",
   "execution_count": null,
   "metadata": {},
   "outputs": [
    {
     "name": "stdout",
     "output_type": "stream",
     "text": [
      "There are 360 sentences for training.\n",
      "\n",
      "There are 360 labels for training.\n",
      "\n",
      "There are 90 sentences for validation.\n",
      "\n",
      "There are 90 labels for validation.\n",
      "[0 1 2]\n",
      "[0 1 2]\n"
     ]
    }
   ],
   "source": [
    "# Test your function\n",
    "train_sentences, val_sentences, train_labels, val_labels = train_val_split(sentences, labels, TRAINING_SPLIT)\n",
    "\n",
    "print(f\"There are {len(train_sentences)} sentences for training.\\n\")\n",
    "print(f\"There are {len(train_labels)} labels for training.\\n\")\n",
    "print(f\"There are {len(val_sentences)} sentences for validation.\\n\")\n",
    "print(f\"There are {len(val_labels)} labels for validation.\")\n",
    "print(np.unique(train_labels))\n",
    "print(np.unique(val_labels))"
   ]
  },
  {
   "cell_type": "code",
   "execution_count": null,
   "metadata": {},
   "outputs": [],
   "source": [
    "def fit_tokenizer(train_sentences, oov_token):\n",
    "    \"\"\"\n",
    "    Instantiates the Tokenizer class on the training sentences\n",
    "    \n",
    "    Args:\n",
    "        train_sentences (list of string): lower-cased sentences without stopwords to be used for training\n",
    "        oov_token (string) - symbol for the out-of-vocabulary token\n",
    "    \n",
    "    Returns:\n",
    "        tokenizer (object): an instance of the Tokenizer class containing the word-index dictionary\n",
    "    \"\"\"\n",
    "    ### START CODE HERE\n",
    "    \n",
    "    # Instantiate the Tokenizer class, passing in the correct value for oov_token\n",
    "    tokenizer = Tokenizer(oov_token=oov_token)\n",
    "    \n",
    "    # Fit the tokenizer to the training sentences\n",
    "    tokenizer.fit_on_texts(train_sentences)\n",
    "    \n",
    "    ### END CODE HERE\n",
    "    \n",
    "    return tokenizer"
   ]
  },
  {
   "cell_type": "code",
   "execution_count": null,
   "metadata": {},
   "outputs": [
    {
     "name": "stdout",
     "output_type": "stream",
     "text": [
      "Vocabulary contains 8186 words\n",
      "\n",
      "<OOV> token included in vocabulary\n",
      "\n",
      "index of word 'gender' should be 216\n"
     ]
    }
   ],
   "source": [
    "# Test your function\n",
    "tokenizer = fit_tokenizer(train_sentences, OOV_TOKEN)\n",
    "\n",
    "word_index = tokenizer.word_index\n",
    "VOCAB_SIZE = len(word_index)\n",
    "\n",
    "print(f\"Vocabulary contains {VOCAB_SIZE} words\\n\")\n",
    "print(\"<OOV> token included in vocabulary\" if \"<OOV>\" in word_index else \"<OOV> token NOT included in vocabulary\")\n",
    "print(f\"\\nindex of word 'gender' should be {word_index['gender']}\")"
   ]
  },
  {
   "cell_type": "code",
   "execution_count": null,
   "metadata": {},
   "outputs": [],
   "source": [
    "def seq_pad_and_trunc(sentences, tokenizer, padding, truncating, maxlen):\n",
    "    \"\"\"\n",
    "    Generates an array of token sequences and pads them to the same length\n",
    "    \n",
    "    Args:\n",
    "        sentences (list of string): list of sentences to tokenize and pad\n",
    "        tokenizer (object): Tokenizer instance containing the word-index dictionary\n",
    "        padding (string): type of padding to use\n",
    "        truncating (string): type of truncating to use\n",
    "        maxlen (int): maximum length of the token sequence\n",
    "    \n",
    "    Returns:\n",
    "        pad_trunc_sequences (array of int): tokenized sentences padded to the same length\n",
    "    \"\"\"        \n",
    "    ### START CODE HERE\n",
    "       \n",
    "    # Convert sentences to sequences\n",
    "    sequences = tokenizer.texts_to_sequences(sentences)\n",
    "    \n",
    "    # Pad the sequences using the correct padding, truncating and maxlen\n",
    "    pad_trunc_sequences = pad_sequences(sequences, maxlen=maxlen, padding=padding, truncating=truncating)\n",
    "    \n",
    "    ### END CODE HERE\n",
    "    \n",
    "    return pad_trunc_sequences"
   ]
  },
  {
   "cell_type": "code",
   "execution_count": null,
   "metadata": {},
   "outputs": [
    {
     "name": "stdout",
     "output_type": "stream",
     "text": [
      "Padded and truncated training sequences have shape: (360, 200)\n",
      "\n",
      "Padded and truncated validation sequences have shape: (90, 200)\n"
     ]
    }
   ],
   "source": [
    "# Test your function\n",
    "train_pad_trunc_seq = seq_pad_and_trunc(train_sentences, tokenizer, PADDING, TRUNCATING, MAXLEN)\n",
    "val_pad_trunc_seq = seq_pad_and_trunc(val_sentences, tokenizer, PADDING, TRUNCATING, MAXLEN)\n",
    "\n",
    "print(f\"Padded and truncated training sequences have shape: {train_pad_trunc_seq.shape}\\n\")\n",
    "print(f\"Padded and truncated validation sequences have shape: {val_pad_trunc_seq.shape}\")"
   ]
  },
  {
   "cell_type": "code",
   "execution_count": null,
   "metadata": {},
   "outputs": [],
   "source": [
    "train_labels = np.array(train_labels)\n",
    "val_labels = np.array(val_labels)"
   ]
  },
  {
   "cell_type": "code",
   "execution_count": null,
   "metadata": {},
   "outputs": [
    {
     "data": {
      "text/plain": [
       "array([1, 0, 2, 1, 2, 2, 2, 0, 1, 1, 0, 2, 1, 0, 1, 1, 0, 0, 0, 0, 2, 0,\n",
       "       2, 0, 0, 1, 1, 2, 2, 1, 0, 2, 1, 2, 0, 2, 2, 1, 2, 2, 1, 1, 0, 2,\n",
       "       0, 2, 1, 2, 1, 2, 1, 2, 0, 2, 0, 1, 0, 2, 2, 1, 0, 2, 2, 2, 1, 0,\n",
       "       1, 1, 1, 1, 0, 1, 2, 1, 2, 2, 0, 0, 1, 1, 2, 0, 1, 2, 2, 0, 2, 2,\n",
       "       2, 1])"
      ]
     },
     "execution_count": 1057,
     "metadata": {},
     "output_type": "execute_result"
    }
   ],
   "source": [
    "val_labels"
   ]
  },
  {
   "cell_type": "code",
   "execution_count": null,
   "metadata": {},
   "outputs": [],
   "source": [
    "# Define path to file containing the embeddings\n",
    "GLOVE_FILE = '../glove.6B.100d.txt'\n",
    "\n",
    "# Initialize an empty embeddings index dictionary\n",
    "GLOVE_EMBEDDINGS = {}\n",
    "\n",
    "# Read file and fill GLOVE_EMBEDDINGS with its contents\n",
    "with open(GLOVE_FILE, encoding=\"utf8\", errors=\"ignore\") as f:\n",
    "    for line in f:\n",
    "        values = line.split()\n",
    "        word = values[0]\n",
    "        coefs = np.asarray(values[1:], dtype='float32')\n",
    "        GLOVE_EMBEDDINGS[word] = coefs"
   ]
  },
  {
   "cell_type": "code",
   "execution_count": null,
   "metadata": {},
   "outputs": [
    {
     "name": "stdout",
     "output_type": "stream",
     "text": [
      "Vector representation of word gender looks like this:\n",
      "\n",
      "[ 0.7528     0.58694    0.10059    0.45384   -0.59904    0.3756\n",
      " -0.48809    0.3255     0.66021    1.0741    -0.87795   -0.070058\n",
      "  0.38828    0.17249    1.198     -0.14775    0.48218    0.0080089\n",
      " -0.072508  -0.29931    0.050217  -0.7677     0.40769    0.52481\n",
      " -0.33323   -0.70466    0.48616   -1.4025    -0.32132   -0.11926\n",
      " -0.28853    0.29444    0.12296   -0.27784    0.64675   -0.80821\n",
      "  0.24569    0.91006   -0.69788    0.78162   -0.75286   -0.309\n",
      " -0.74415    0.13453   -1.1376    -0.21934   -0.043231   0.90301\n",
      " -1.6366    -0.77089    0.37707   -0.070822  -1.0185     1.0259\n",
      "  0.28272   -1.0935     0.46933   -0.21428    0.63936    0.1496\n",
      " -0.12656   -0.19598   -0.10937   -0.50143    1.2136    -0.046943\n",
      "  0.57951   -0.55169    0.25192    0.62123   -0.12948    0.58623\n",
      " -0.19002    0.056338   0.40258   -0.11338   -0.61292   -0.74152\n",
      " -0.49465   -0.98182   -1.1541    -0.39493    0.82455    0.1865\n",
      " -1.6896    -0.035706  -0.88967   -0.46248    0.42013   -0.28066\n",
      " -0.63143    0.25901   -0.31026   -0.024644   0.69174   -0.03463\n",
      " -0.11744   -0.62681    0.34728    0.41872  ]\n"
     ]
    }
   ],
   "source": [
    "test_word = 'gender'\n",
    "\n",
    "test_vector = GLOVE_EMBEDDINGS[test_word]\n",
    "\n",
    "print(f\"Vector representation of word {test_word} looks like this:\\n\\n{test_vector}\")"
   ]
  },
  {
   "cell_type": "code",
   "execution_count": null,
   "metadata": {},
   "outputs": [],
   "source": [
    "# Initialize an empty numpy array with the appropriate size\n",
    "EMBEDDINGS_MATRIX = np.zeros((VOCAB_SIZE+1, EMBEDDING_DIM))\n",
    "\n",
    "# Iterate all of the words in the vocabulary and if the vector representation for \n",
    "# each word exists within GloVe's representations, save it in the EMBEDDINGS_MATRIX array\n",
    "for word, i in word_index.items():\n",
    "    embedding_vector = GLOVE_EMBEDDINGS.get(word)\n",
    "    if embedding_vector is not None:\n",
    "        EMBEDDINGS_MATRIX[i] = embedding_vector"
   ]
  },
  {
   "cell_type": "code",
   "execution_count": null,
   "metadata": {},
   "outputs": [],
   "source": [
    "# GRADED FUNCTION: create_model\n",
    "def create_model(vocab_size, embedding_dim, maxlen, embeddings_matrix):\n",
    "    \"\"\"\n",
    "    Creates a binary sentiment classifier model\n",
    "    \n",
    "    Args:\n",
    "        vocab_size (int): size of the vocabulary for the Embedding layer input\n",
    "        embedding_dim (int): dimensionality of the Embedding layer output\n",
    "        maxlen (int): length of the input sequences\n",
    "        embeddings_matrix (array): predefined weights of the embeddings\n",
    "    \n",
    "    Returns:\n",
    "        model (tf.keras Model): the sentiment classifier model\n",
    "    \"\"\"\n",
    "    ### START CODE HERE\n",
    "    \n",
    "    model = tf.keras.Sequential([ \n",
    "        # This is how you need to set the Embedding layer when using pre-trained embeddings\n",
    "        tf.keras.layers.Embedding(vocab_size+1, embedding_dim, batch_input_shape=(None, maxlen), weights=[embeddings_matrix], trainable=False), \n",
    "        tf.keras.layers.Bidirectional(tf.keras.layers.LSTM(64, activation=\"tanh\", return_sequences=True)),\n",
    "        tf.keras.layers.Dropout(0.5),\n",
    "        tf.keras.layers.BatchNormalization(),\n",
    "        tf.keras.layers.Bidirectional(tf.keras.layers.LSTM(64, activation=\"tanh\", return_sequences=False)),\n",
    "        # tf.keras.layers.Flatten(),\n",
    "        tf.keras.layers.Dense(128, activation='relu'),\n",
    "        tf.keras.layers.Dropout(0.5),\n",
    "        tf.keras.layers.Dense(128, activation='relu'),\n",
    "        tf.keras.layers.Dense(3, activation='softmax')\n",
    "    ])\n",
    "    # model = tf.keras.Sequential([ \n",
    "    #     # This is how you need to set the Embedding layer when using pre-trained embeddings\n",
    "    #     tf.keras.layers.Embedding(vocab_size+1, embedding_dim, batch_input_shape=(None, maxlen), weights=[embeddings_matrix], trainable=False), \n",
    "    #     tf.keras.layers.Bidirectional(tf.keras.layers.LSTM(128, activation=\"tanh\", return_sequences=True)),\n",
    "    #     tf.keras.layers.Dropout(0.5),\n",
    "    #     tf.keras.layers.BatchNormalization(),rs.LSTM(128, activation=\"tanh\")),\n",
    "    #     tf.keras.layers.Dense(128, activation='relu'),\n",
    "    #     tf.keras.layers.Dropout(0.5),\n",
    "    #     tf.keras.layers.BatchNormalization(),\n",
    "    #     tf.keras.layers.Dense(128, activation='relu'),\n",
    "    #     tf.keras.layers.Dense(3, activati\n",
    "    #     tf.keras.layers.Bidirectional(tf.keras.layeon='softmax')\n",
    "    # ])\n",
    "    model.compile(loss=tf.keras.losses.SparseCategoricalCrossentropy(),\n",
    "                  optimizer=optimizers.RMSprop(1e-4),\n",
    "                  metrics=['accuracy']) \n",
    "\n",
    "    ### END CODE HERE\n",
    "\n",
    "    return model"
   ]
  },
  {
   "cell_type": "code",
   "execution_count": null,
   "metadata": {},
   "outputs": [
    {
     "name": "stdout",
     "output_type": "stream",
     "text": [
      "Model: \"sequential_60\"\n",
      "_________________________________________________________________\n",
      " Layer (type)                Output Shape              Param #   \n",
      "=================================================================\n",
      " embedding_63 (Embedding)    (None, 200, 100)          818700    \n",
      "                                                                 \n",
      " bidirectional_123 (Bidirect  (None, 200, 128)         84480     \n",
      " ional)                                                          \n",
      "                                                                 \n",
      " dropout_125 (Dropout)       (None, 200, 128)          0         \n",
      "                                                                 \n",
      " batch_normalization_67 (Bat  (None, 200, 128)         512       \n",
      " chNormalization)                                                \n",
      "                                                                 \n",
      " bidirectional_124 (Bidirect  (None, 128)              98816     \n",
      " ional)                                                          \n",
      "                                                                 \n",
      " dense_189 (Dense)           (None, 128)               16512     \n",
      "                                                                 \n",
      " dropout_126 (Dropout)       (None, 128)               0         \n",
      "                                                                 \n",
      " dense_190 (Dense)           (None, 128)               16512     \n",
      "                                                                 \n",
      " dense_191 (Dense)           (None, 3)                 387       \n",
      "                                                                 \n",
      "=================================================================\n",
      "Total params: 1,035,919\n",
      "Trainable params: 216,963\n",
      "Non-trainable params: 818,956\n",
      "_________________________________________________________________\n"
     ]
    }
   ],
   "source": [
    "# Create your untrained model\n",
    "model = create_model(VOCAB_SIZE, EMBEDDING_DIM, MAXLEN, EMBEDDINGS_MATRIX)\n",
    "\n",
    "model.summary()"
   ]
  },
  {
   "cell_type": "code",
   "execution_count": null,
   "metadata": {},
   "outputs": [],
   "source": [
    "reduce_lr = ReduceLROnPlateau(monitor='val_loss', factor=0.1,\n",
    "                              patience=5, min_lr=1e-8)\n",
    "es = EarlyStopping(monitor='val_loss', patience=15, mode=\"min\", restore_best_weights=True)"
   ]
  },
  {
   "cell_type": "code",
   "execution_count": null,
   "metadata": {},
   "outputs": [
    {
     "name": "stdout",
     "output_type": "stream",
     "text": [
      "Epoch 1/256\n"
     ]
    },
    {
     "name": "stdout",
     "output_type": "stream",
     "text": [
      "45/45 [==============================] - 7s 72ms/step - loss: 1.1029 - accuracy: 0.3667 - val_loss: 1.0880 - val_accuracy: 0.4111 - lr: 1.0000e-04\n",
      "Epoch 2/256\n",
      "45/45 [==============================] - 2s 50ms/step - loss: 1.0626 - accuracy: 0.4583 - val_loss: 1.0666 - val_accuracy: 0.6222 - lr: 1.0000e-04\n",
      "Epoch 3/256\n",
      "45/45 [==============================] - 2s 51ms/step - loss: 1.0282 - accuracy: 0.5083 - val_loss: 1.0283 - val_accuracy: 0.7000 - lr: 1.0000e-04\n",
      "Epoch 4/256\n",
      "45/45 [==============================] - 2s 49ms/step - loss: 0.9854 - accuracy: 0.6000 - val_loss: 0.9730 - val_accuracy: 0.7222 - lr: 1.0000e-04\n",
      "Epoch 5/256\n",
      "45/45 [==============================] - 2s 48ms/step - loss: 0.9266 - accuracy: 0.6167 - val_loss: 0.8930 - val_accuracy: 0.7667 - lr: 1.0000e-04\n",
      "Epoch 6/256\n",
      "45/45 [==============================] - 2s 49ms/step - loss: 0.8332 - accuracy: 0.7250 - val_loss: 0.7854 - val_accuracy: 0.7778 - lr: 1.0000e-04\n",
      "Epoch 7/256\n",
      "45/45 [==============================] - 2s 52ms/step - loss: 0.7482 - accuracy: 0.7778 - val_loss: 0.6647 - val_accuracy: 0.8000 - lr: 1.0000e-04\n",
      "Epoch 8/256\n",
      "45/45 [==============================] - 2s 51ms/step - loss: 0.6593 - accuracy: 0.7722 - val_loss: 0.5326 - val_accuracy: 0.8333 - lr: 1.0000e-04\n",
      "Epoch 9/256\n",
      "45/45 [==============================] - 2s 50ms/step - loss: 0.5635 - accuracy: 0.8250 - val_loss: 0.4529 - val_accuracy: 0.8556 - lr: 1.0000e-04\n",
      "Epoch 10/256\n",
      "45/45 [==============================] - 2s 51ms/step - loss: 0.4927 - accuracy: 0.8250 - val_loss: 0.3795 - val_accuracy: 0.8778 - lr: 1.0000e-04\n",
      "Epoch 11/256\n",
      "45/45 [==============================] - 2s 50ms/step - loss: 0.4381 - accuracy: 0.8611 - val_loss: 0.3400 - val_accuracy: 0.9000 - lr: 1.0000e-04\n",
      "Epoch 12/256\n",
      "45/45 [==============================] - 2s 49ms/step - loss: 0.3621 - accuracy: 0.8917 - val_loss: 0.2987 - val_accuracy: 0.9000 - lr: 1.0000e-04\n",
      "Epoch 13/256\n",
      "45/45 [==============================] - 2s 49ms/step - loss: 0.3328 - accuracy: 0.8972 - val_loss: 0.2773 - val_accuracy: 0.9000 - lr: 1.0000e-04\n",
      "Epoch 14/256\n",
      "45/45 [==============================] - 2s 49ms/step - loss: 0.3103 - accuracy: 0.9000 - val_loss: 0.2759 - val_accuracy: 0.9222 - lr: 1.0000e-04\n",
      "Epoch 15/256\n",
      "45/45 [==============================] - 2s 50ms/step - loss: 0.2573 - accuracy: 0.9250 - val_loss: 0.2563 - val_accuracy: 0.9333 - lr: 1.0000e-04\n",
      "Epoch 16/256\n",
      "45/45 [==============================] - 2s 49ms/step - loss: 0.2458 - accuracy: 0.9250 - val_loss: 0.2534 - val_accuracy: 0.9222 - lr: 1.0000e-04\n",
      "Epoch 17/256\n",
      "45/45 [==============================] - 2s 50ms/step - loss: 0.2102 - accuracy: 0.9361 - val_loss: 0.2443 - val_accuracy: 0.9333 - lr: 1.0000e-04\n",
      "Epoch 18/256\n",
      "45/45 [==============================] - 2s 50ms/step - loss: 0.1766 - accuracy: 0.9583 - val_loss: 0.2667 - val_accuracy: 0.9333 - lr: 1.0000e-04\n",
      "Epoch 19/256\n",
      "45/45 [==============================] - 2s 51ms/step - loss: 0.1391 - accuracy: 0.9611 - val_loss: 0.2239 - val_accuracy: 0.9444 - lr: 1.0000e-04\n",
      "Epoch 20/256\n",
      "45/45 [==============================] - 2s 50ms/step - loss: 0.1432 - accuracy: 0.9611 - val_loss: 0.2853 - val_accuracy: 0.9333 - lr: 1.0000e-04\n",
      "Epoch 21/256\n",
      "45/45 [==============================] - 2s 49ms/step - loss: 0.1246 - accuracy: 0.9694 - val_loss: 0.2787 - val_accuracy: 0.9222 - lr: 1.0000e-04\n",
      "Epoch 22/256\n",
      "45/45 [==============================] - 2s 49ms/step - loss: 0.1185 - accuracy: 0.9722 - val_loss: 0.2882 - val_accuracy: 0.9333 - lr: 1.0000e-04\n",
      "Epoch 23/256\n",
      "45/45 [==============================] - 2s 49ms/step - loss: 0.1020 - accuracy: 0.9722 - val_loss: 0.2888 - val_accuracy: 0.9444 - lr: 1.0000e-04\n",
      "Epoch 24/256\n",
      "45/45 [==============================] - 2s 49ms/step - loss: 0.1177 - accuracy: 0.9667 - val_loss: 0.2508 - val_accuracy: 0.9444 - lr: 1.0000e-04\n",
      "Epoch 25/256\n",
      "45/45 [==============================] - 2s 49ms/step - loss: 0.0921 - accuracy: 0.9722 - val_loss: 0.2605 - val_accuracy: 0.9444 - lr: 1.0000e-05\n",
      "Epoch 26/256\n",
      "45/45 [==============================] - 2s 49ms/step - loss: 0.0896 - accuracy: 0.9750 - val_loss: 0.2608 - val_accuracy: 0.9444 - lr: 1.0000e-05\n",
      "Epoch 27/256\n",
      "45/45 [==============================] - 2s 49ms/step - loss: 0.0811 - accuracy: 0.9806 - val_loss: 0.2589 - val_accuracy: 0.9333 - lr: 1.0000e-05\n",
      "Epoch 28/256\n",
      "45/45 [==============================] - 2s 49ms/step - loss: 0.0721 - accuracy: 0.9750 - val_loss: 0.2579 - val_accuracy: 0.9444 - lr: 1.0000e-05\n",
      "Epoch 29/256\n",
      "45/45 [==============================] - 2s 49ms/step - loss: 0.0778 - accuracy: 0.9861 - val_loss: 0.2568 - val_accuracy: 0.9444 - lr: 1.0000e-05\n",
      "Epoch 30/256\n",
      "45/45 [==============================] - 2s 49ms/step - loss: 0.0850 - accuracy: 0.9806 - val_loss: 0.2567 - val_accuracy: 0.9444 - lr: 1.0000e-06\n",
      "Epoch 31/256\n",
      "45/45 [==============================] - 2s 48ms/step - loss: 0.0863 - accuracy: 0.9806 - val_loss: 0.2558 - val_accuracy: 0.9444 - lr: 1.0000e-06\n",
      "Epoch 32/256\n",
      "45/45 [==============================] - 2s 49ms/step - loss: 0.0840 - accuracy: 0.9833 - val_loss: 0.2559 - val_accuracy: 0.9444 - lr: 1.0000e-06\n",
      "Epoch 33/256\n",
      "45/45 [==============================] - 2s 48ms/step - loss: 0.0819 - accuracy: 0.9778 - val_loss: 0.2557 - val_accuracy: 0.9444 - lr: 1.0000e-06\n",
      "Epoch 34/256\n",
      "45/45 [==============================] - 2s 50ms/step - loss: 0.0733 - accuracy: 0.9778 - val_loss: 0.2562 - val_accuracy: 0.9444 - lr: 1.0000e-06\n"
     ]
    }
   ],
   "source": [
    "# Train the model and save the training history\n",
    "history = model.fit(train_pad_trunc_seq, train_labels, epochs=256, \n",
    "                    validation_data=(val_pad_trunc_seq, val_labels), \n",
    "                    callbacks=[reduce_lr, \n",
    "                               es\n",
    "                               ],\n",
    "                    batch_size=8)"
   ]
  },
  {
   "cell_type": "code",
   "execution_count": null,
   "metadata": {},
   "outputs": [
    {
     "name": "stdout",
     "output_type": "stream",
     "text": [
      "MAX LEN IS 90\n",
      "1/1 [==============================] - 1s 844ms/step\n",
      "[1 0 2 1 2 2 2 0 1 1 0 2 1 0 1 1 0 0 0 0 2 0 2 0 0 1 1 2 2 1 0 2 1 2 0 2 2\n",
      " 1 2 2 1 1 0 2 0 2 1 2 1 2 1 2 0 2 0 1 0 2 2 1 0 2 2 2 1 0 1 1 1 1 0 1 2 1\n",
      " 2 2 0 0 1 1 2 0 1 2 2 0 2 2 2 1]\n",
      "Ground Truth: 2\n",
      "Classification Truth: 1\n",
      "Actual Input Sentence\n"
     ]
    }
   ],
   "source": [
    "## Testing\n",
    "print(f\"MAX LEN IS {len(val_labels)}\")\n",
    "\n",
    "number = 2\n",
    "\n",
    "\n",
    "test_data = val_pad_trunc_seq[number].reshape(1,MAXLEN)\n",
    "ground_truth =val_labels[number]\n",
    "classification = model.predict(test_data)\n",
    "print(val_labels)\n",
    "print('Ground Truth:', ground_truth)\n",
    "print('Classification Truth:', np.argmax((classification)) )\n",
    "\n",
    "print('Actual Input Sentence', )\n"
   ]
  },
  {
   "cell_type": "code",
   "execution_count": null,
   "metadata": {},
   "outputs": [
    {
     "name": "stdout",
     "output_type": "stream",
     "text": [
      "Best Epoch:  18\n",
      "Final Train Loss: 0.1391\n",
      "Final Validation Loss: 0.2239\n",
      "Final Train accuracy: 96.11\n",
      "Final Test accuracy: 94.44\n"
     ]
    }
   ],
   "source": [
    "## Best model saved\n",
    "train_loss = history.history['loss']\n",
    "train_accuracy = history.history['accuracy']\n",
    "val_loss = history.history['val_loss']\n",
    "val_accuracy = history.history['val_accuracy']\n",
    "\n",
    "best_epoch = np.argmin(np.array(val_loss))\n",
    "\n",
    "print(\"Best Epoch: \", best_epoch)\n",
    "print(\"Final Train Loss: {:.4f}\".format(train_loss[best_epoch]))\n",
    "print(\"Final Validation Loss: {:.4f}\".format(val_loss[best_epoch]))\n",
    "print(\"Final Train accuracy: {:.2f}\".format(train_accuracy[best_epoch]*100))\n",
    "print(\"Final Test accuracy: {:.2f}\".format(val_accuracy[best_epoch]*100))"
   ]
  },
  {
   "cell_type": "code",
   "execution_count": null,
   "metadata": {},
   "outputs": [
    {
     "data": {
      "image/png": "[encoded data removed]",
      "text/plain": [
       "<Figure size 1500x400 with 2 Axes>"
      ]
     },
     "metadata": {},
     "output_type": "display_data"
    }
   ],
   "source": [
    "## Graphing Result of training\n",
    "plt.figure(figsize=(15,4))\n",
    "\n",
    "plt.subplot(121)\n",
    "plt.plot(history.history['accuracy'], color ='r')\n",
    "plt.plot(history.history['val_accuracy'])\n",
    "plt.title('accuracy')\n",
    "plt.legend(['train','validation'])\n",
    "plt.xlabel('epoch')\n",
    "plt.ylabel('accuracy')\n",
    "\n",
    "plt.subplot(122)\n",
    "plt.plot(history.history['loss'], color ='r')\n",
    "plt.plot(history.history['val_loss'])\n",
    "plt.title('loss')\n",
    "plt.legend(['train','validation'])\n",
    "plt.xlabel('epoch')\n",
    "plt.ylabel('mean squared error')\n",
    "\n",
    "# displaying the figure\n",
    "plt.show()"
   ]
  },
  {
   "cell_type": "markdown",
   "metadata": {},
   "source": [
    "### saving"
   ]
  },
  {
   "cell_type": "code",
   "execution_count": null,
   "metadata": {},
   "outputs": [
    {
     "name": "stdout",
     "output_type": "stream",
     "text": [
      "Padded and truncated training sequences have shape: (450, 200)\n",
      "\n"
     ]
    }
   ],
   "source": [
    "# Train the model and save the training history\n",
    "# Test your function\n",
    "final_pad_trunc_seq = seq_pad_and_trunc(FINALSET, tokenizer, PADDING, TRUNCATING, MAXLEN)\n",
    "\n",
    "print(f\"Padded and truncated training sequences have shape: {final_pad_trunc_seq.shape}\\n\")\n",
    "\n",
    "FINAL_LABELS_ARR = np.array(FINALSET_LABELS)"
   ]
  },
  {
   "cell_type": "code",
   "execution_count": null,
   "metadata": {},
   "outputs": [],
   "source": [
    "reduce_lr = ReduceLROnPlateau(monitor='loss', factor=0.1,\n",
    "                              patience=5, min_lr=1e-8)\n",
    "es = EarlyStopping(monitor='loss', patience=15, mode=\"min\", restore_best_weights=True)"
   ]
  },
  {
   "cell_type": "code",
   "execution_count": null,
   "metadata": {},
   "outputs": [
    {
     "name": "stdout",
     "output_type": "stream",
     "text": [
      "Model: \"sequential_61\"\n",
      "_________________________________________________________________\n",
      " Layer (type)                Output Shape              Param #   \n",
      "=================================================================\n",
      " embedding_64 (Embedding)    (None, 200, 100)          818700    \n",
      "                                                                 \n",
      " bidirectional_125 (Bidirect  (None, 200, 128)         84480     \n",
      " ional)                                                          \n",
      "                                                                 \n",
      " dropout_127 (Dropout)       (None, 200, 128)          0         \n",
      "                                                                 \n",
      " batch_normalization_68 (Bat  (None, 200, 128)         512       \n",
      " chNormalization)                                                \n",
      "                                                                 \n",
      " bidirectional_126 (Bidirect  (None, 128)              98816     \n",
      " ional)                                                          \n",
      "                                                                 \n",
      " dense_192 (Dense)           (None, 128)               16512     \n",
      "                                                                 \n",
      " dropout_128 (Dropout)       (None, 128)               0         \n",
      "                                                                 \n",
      " dense_193 (Dense)           (None, 128)               16512     \n",
      "                                                                 \n",
      " dense_194 (Dense)           (None, 3)                 387       \n",
      "                                                                 \n",
      "=================================================================\n",
      "Total params: 1,035,919\n",
      "Trainable params: 216,963\n",
      "Non-trainable params: 818,956\n",
      "_________________________________________________________________\n"
     ]
    }
   ],
   "source": [
    "# Create your untrained model\n",
    "FINAL_MODEL = create_model(VOCAB_SIZE, EMBEDDING_DIM, MAXLEN, EMBEDDINGS_MATRIX)\n",
    "\n",
    "FINAL_MODEL.summary()"
   ]
  },
  {
   "cell_type": "code",
   "execution_count": null,
   "metadata": {},
   "outputs": [
    {
     "name": "stdout",
     "output_type": "stream",
     "text": [
      "Epoch 1/256\n"
     ]
    },
    {
     "name": "stdout",
     "output_type": "stream",
     "text": [
      "57/57 [==============================] - 6s 45ms/step - loss: 1.0751 - accuracy: 0.4133 - lr: 1.0000e-04\n",
      "Epoch 2/256\n",
      "57/57 [==============================] - 2s 43ms/step - loss: 1.0064 - accuracy: 0.5489 - lr: 1.0000e-04\n",
      "Epoch 3/256\n",
      "57/57 [==============================] - 2s 42ms/step - loss: 0.9364 - accuracy: 0.6333 - lr: 1.0000e-04\n",
      "Epoch 4/256\n",
      "57/57 [==============================] - 2s 44ms/step - loss: 0.8521 - accuracy: 0.6733 - lr: 1.0000e-04\n",
      "Epoch 5/256\n",
      "57/57 [==============================] - 2s 43ms/step - loss: 0.7489 - accuracy: 0.7311 - lr: 1.0000e-04\n",
      "Epoch 6/256\n",
      "57/57 [==============================] - 2s 43ms/step - loss: 0.6204 - accuracy: 0.7956 - lr: 1.0000e-04\n",
      "Epoch 7/256\n",
      "57/57 [==============================] - 2s 44ms/step - loss: 0.5042 - accuracy: 0.8556 - lr: 1.0000e-04\n",
      "Epoch 8/256\n",
      "57/57 [==============================] - 3s 45ms/step - loss: 0.4448 - accuracy: 0.8711 - lr: 1.0000e-04\n",
      "Epoch 9/256\n",
      "57/57 [==============================] - 3s 45ms/step - loss: 0.3741 - accuracy: 0.8889 - lr: 1.0000e-04\n",
      "Epoch 10/256\n",
      "57/57 [==============================] - 3s 45ms/step - loss: 0.3240 - accuracy: 0.9067 - lr: 1.0000e-04\n",
      "Epoch 11/256\n",
      "57/57 [==============================] - 3s 44ms/step - loss: 0.2893 - accuracy: 0.9133 - lr: 1.0000e-04\n",
      "Epoch 12/256\n",
      "57/57 [==============================] - 3s 46ms/step - loss: 0.2458 - accuracy: 0.9289 - lr: 1.0000e-04\n",
      "Epoch 13/256\n",
      "57/57 [==============================] - 3s 45ms/step - loss: 0.2282 - accuracy: 0.9444 - lr: 1.0000e-04\n",
      "Epoch 14/256\n",
      "57/57 [==============================] - 3s 45ms/step - loss: 0.2091 - accuracy: 0.9511 - lr: 1.0000e-04\n",
      "Epoch 15/256\n",
      "57/57 [==============================] - 3s 45ms/step - loss: 0.1760 - accuracy: 0.9533 - lr: 1.0000e-04\n",
      "Epoch 16/256\n",
      "57/57 [==============================] - 2s 44ms/step - loss: 0.1580 - accuracy: 0.9556 - lr: 1.0000e-04\n",
      "Epoch 17/256\n",
      "57/57 [==============================] - 2s 43ms/step - loss: 0.1492 - accuracy: 0.9600 - lr: 1.0000e-04\n",
      "Epoch 18/256\n",
      "57/57 [==============================] - 3s 44ms/step - loss: 0.1535 - accuracy: 0.9578 - lr: 1.0000e-04\n",
      "Epoch 19/256\n",
      "57/57 [==============================] - 2s 44ms/step - loss: 0.1407 - accuracy: 0.9556 - lr: 1.0000e-04\n",
      "Epoch 20/256\n",
      "57/57 [==============================] - 2s 43ms/step - loss: 0.1225 - accuracy: 0.9600 - lr: 1.0000e-04\n",
      "Epoch 21/256\n",
      "57/57 [==============================] - 2s 44ms/step - loss: 0.1003 - accuracy: 0.9711 - lr: 1.0000e-04\n",
      "Epoch 22/256\n",
      "57/57 [==============================] - 2s 43ms/step - loss: 0.1026 - accuracy: 0.9689 - lr: 1.0000e-04\n",
      "Epoch 23/256\n",
      "57/57 [==============================] - 2s 43ms/step - loss: 0.0827 - accuracy: 0.9733 - lr: 1.0000e-04\n",
      "Epoch 24/256\n",
      "57/57 [==============================] - 2s 43ms/step - loss: 0.0872 - accuracy: 0.9778 - lr: 1.0000e-04\n",
      "Epoch 25/256\n",
      "57/57 [==============================] - 2s 43ms/step - loss: 0.0652 - accuracy: 0.9778 - lr: 1.0000e-04\n",
      "Epoch 26/256\n",
      "57/57 [==============================] - 2s 43ms/step - loss: 0.0636 - accuracy: 0.9778 - lr: 1.0000e-04\n",
      "Epoch 27/256\n",
      "57/57 [==============================] - 3s 44ms/step - loss: 0.0515 - accuracy: 0.9844 - lr: 1.0000e-04\n",
      "Epoch 28/256\n",
      "57/57 [==============================] - 3s 45ms/step - loss: 0.0447 - accuracy: 0.9822 - lr: 1.0000e-04\n",
      "Epoch 29/256\n",
      "57/57 [==============================] - 3s 45ms/step - loss: 0.0301 - accuracy: 0.9867 - lr: 1.0000e-04\n",
      "Epoch 30/256\n",
      "57/57 [==============================] - 3s 46ms/step - loss: 0.0572 - accuracy: 0.9800 - lr: 1.0000e-04\n",
      "Epoch 31/256\n",
      "57/57 [==============================] - 2s 43ms/step - loss: 0.0219 - accuracy: 0.9933 - lr: 1.0000e-04\n",
      "Epoch 32/256\n",
      "57/57 [==============================] - 3s 44ms/step - loss: 0.0404 - accuracy: 0.9867 - lr: 1.0000e-04\n",
      "Epoch 33/256\n",
      "57/57 [==============================] - 3s 44ms/step - loss: 0.0189 - accuracy: 0.9956 - lr: 1.0000e-04\n",
      "Epoch 34/256\n",
      "57/57 [==============================] - 3s 45ms/step - loss: 0.0376 - accuracy: 0.9911 - lr: 1.0000e-04\n",
      "Epoch 35/256\n",
      "57/57 [==============================] - 3s 45ms/step - loss: 0.0131 - accuracy: 0.9956 - lr: 1.0000e-04\n",
      "Epoch 36/256\n",
      "57/57 [==============================] - 3s 45ms/step - loss: 0.0101 - accuracy: 1.0000 - lr: 1.0000e-04\n",
      "Epoch 37/256\n",
      "57/57 [==============================] - 3s 45ms/step - loss: 0.0271 - accuracy: 0.9933 - lr: 1.0000e-04\n",
      "Epoch 38/256\n",
      "57/57 [==============================] - 3s 44ms/step - loss: 0.0051 - accuracy: 1.0000 - lr: 1.0000e-04\n",
      "Epoch 39/256\n",
      "57/57 [==============================] - 3s 45ms/step - loss: 0.0119 - accuracy: 0.9933 - lr: 1.0000e-04\n",
      "Epoch 40/256\n",
      "57/57 [==============================] - 2s 44ms/step - loss: 0.0103 - accuracy: 0.9978 - lr: 1.0000e-04\n",
      "Epoch 41/256\n",
      "57/57 [==============================] - 3s 44ms/step - loss: 0.0066 - accuracy: 0.9956 - lr: 1.0000e-04\n",
      "Epoch 42/256\n",
      "57/57 [==============================] - 3s 45ms/step - loss: 0.0114 - accuracy: 0.9933 - lr: 1.0000e-04\n",
      "Epoch 43/256\n",
      "57/57 [==============================] - 3s 45ms/step - loss: 0.0052 - accuracy: 0.9978 - lr: 1.0000e-04\n",
      "Epoch 44/256\n",
      "57/57 [==============================] - 3s 45ms/step - loss: 0.0103 - accuracy: 0.9956 - lr: 1.0000e-05\n",
      "Epoch 45/256\n",
      "57/57 [==============================] - 3s 44ms/step - loss: 0.0012 - accuracy: 1.0000 - lr: 1.0000e-05\n",
      "Epoch 46/256\n",
      "57/57 [==============================] - 3s 44ms/step - loss: 0.0017 - accuracy: 1.0000 - lr: 1.0000e-05\n",
      "Epoch 47/256\n",
      "57/57 [==============================] - 2s 43ms/step - loss: 0.0048 - accuracy: 0.9978 - lr: 1.0000e-05\n",
      "Epoch 48/256\n",
      "57/57 [==============================] - 2s 43ms/step - loss: 0.0015 - accuracy: 1.0000 - lr: 1.0000e-05\n",
      "Epoch 49/256\n",
      "57/57 [==============================] - 3s 44ms/step - loss: 7.1286e-04 - accuracy: 1.0000 - lr: 1.0000e-05\n",
      "Epoch 50/256\n",
      "57/57 [==============================] - 3s 45ms/step - loss: 0.0017 - accuracy: 1.0000 - lr: 1.0000e-05\n",
      "Epoch 51/256\n",
      "57/57 [==============================] - 3s 44ms/step - loss: 0.0016 - accuracy: 1.0000 - lr: 1.0000e-05\n",
      "Epoch 52/256\n",
      "57/57 [==============================] - 3s 45ms/step - loss: 0.0037 - accuracy: 1.0000 - lr: 1.0000e-05\n",
      "Epoch 53/256\n",
      "57/57 [==============================] - 3s 45ms/step - loss: 0.0017 - accuracy: 1.0000 - lr: 1.0000e-05\n",
      "Epoch 54/256\n",
      "57/57 [==============================] - 2s 43ms/step - loss: 0.0039 - accuracy: 0.9978 - lr: 1.0000e-05\n",
      "Epoch 55/256\n",
      "57/57 [==============================] - 2s 44ms/step - loss: 0.0046 - accuracy: 0.9978 - lr: 1.0000e-06\n",
      "Epoch 56/256\n",
      "57/57 [==============================] - 3s 44ms/step - loss: 0.0091 - accuracy: 0.9933 - lr: 1.0000e-06\n",
      "Epoch 57/256\n",
      "57/57 [==============================] - 3s 44ms/step - loss: 0.0023 - accuracy: 1.0000 - lr: 1.0000e-06\n",
      "Epoch 58/256\n",
      "57/57 [==============================] - 3s 44ms/step - loss: 0.0025 - accuracy: 0.9978 - lr: 1.0000e-06\n",
      "Epoch 59/256\n",
      "57/57 [==============================] - 2s 43ms/step - loss: 0.0021 - accuracy: 1.0000 - lr: 1.0000e-06\n",
      "Epoch 60/256\n",
      "57/57 [==============================] - 2s 43ms/step - loss: 0.0105 - accuracy: 0.9956 - lr: 1.0000e-07\n",
      "Epoch 61/256\n",
      "57/57 [==============================] - 2s 43ms/step - loss: 0.0026 - accuracy: 1.0000 - lr: 1.0000e-07\n",
      "Epoch 62/256\n",
      "57/57 [==============================] - 2s 43ms/step - loss: 0.0011 - accuracy: 1.0000 - lr: 1.0000e-07\n",
      "Epoch 63/256\n",
      "57/57 [==============================] - 3s 45ms/step - loss: 0.0029 - accuracy: 0.9978 - lr: 1.0000e-07\n",
      "Epoch 64/256\n",
      "57/57 [==============================] - 3s 47ms/step - loss: 0.0026 - accuracy: 0.9978 - lr: 1.0000e-07\n"
     ]
    }
   ],
   "source": [
    "FINAL_HISTORY = FINAL_MODEL.fit(final_pad_trunc_seq, FINAL_LABELS_ARR, epochs=256, \n",
    "                    # validation_data=(val_pad_trunc_seq, val_labels), \n",
    "                    callbacks=[reduce_lr, \n",
    "                               es\n",
    "                               ],\n",
    "                    batch_size=8)"
   ]
  },
  {
   "cell_type": "code",
   "execution_count": null,
   "metadata": {},
   "outputs": [],
   "source": [
    "## General save path\n",
    "import os\n",
    "version = len(os.listdir('../models'))+2\n",
    "save_path = '../models/classifier_v0{:d}/'.format(version)\n",
    "os.mkdir(save_path)"
   ]
  },
  {
   "cell_type": "code",
   "execution_count": null,
   "metadata": {},
   "outputs": [
    {
     "data": {
      "image/png": "[encoded data removed]",
      "text/plain": [
       "<Figure size 1500x400 with 2 Axes>"
      ]
     },
     "metadata": {},
     "output_type": "display_data"
    }
   ],
   "source": [
    "# Saving the figure.\n",
    "## Graphing Result of training\n",
    "plt.figure(figsize=(15,4))\n",
    "\n",
    "plt.subplot(121)\n",
    "plt.plot(history.history['accuracy'], color ='r')\n",
    "plt.plot(history.history['val_accuracy'])\n",
    "plt.title('accuracy')\n",
    "plt.legend(['train','validation'])\n",
    "plt.xlabel('epoch')\n",
    "plt.ylabel('accuracy')\n",
    "\n",
    "plt.subplot(122)\n",
    "plt.plot(history.history['loss'], color ='r')\n",
    "plt.plot(history.history['val_loss'])\n",
    "plt.title('loss')\n",
    "plt.legend(['train','validation'])\n",
    "plt.xlabel('epoch')\n",
    "plt.ylabel('mean squared error')\n",
    "\n",
    "plt.savefig(save_path+\"output.jpg\")"
   ]
  },
  {
   "cell_type": "code",
   "execution_count": null,
   "metadata": {},
   "outputs": [],
   "source": [
    "## Save best metrics\n",
    "with open(save_path+'metrics.txt', 'w') as f:\n",
    "    f.write(\"Best Epoch: {:d} \\n\".format(best_epoch))\n",
    "    f.write(\"Final Train Loss: {:.4f}\\n\".format(train_loss[best_epoch]))\n",
    "    # f.write(\"Final Validation Loss: {:.4f}\\n\".format(val_loss[best_epoch]))\n",
    "    f.write(\"Final Train accuracy: {:.2f}%\\n\".format(train_accuracy[best_epoch]*100))\n",
    "    # f.write(\"Final Test accuracy: {:.2f}%\\n\".format(val_accuracy[best_epoch]*100))"
   ]
  },
  {
   "cell_type": "code",
   "execution_count": null,
   "metadata": {},
   "outputs": [],
   "source": [
    "## save number of words used\n",
    "with open(save_path+'readme.txt','w') as f:\n",
    "    f.write('This classifier model only uses the first {:d} words of the abstract.'.format(MAXLEN))"
   ]
  },
  {
   "cell_type": "code",
   "execution_count": null,
   "metadata": {},
   "outputs": [],
   "source": [
    "## saving model\n",
    "FINAL_MODEL.save(save_path+'model.h5')"
   ]
  },
  {
   "cell_type": "code",
   "execution_count": null,
   "metadata": {},
   "outputs": [],
   "source": [
    "## saving tokenizer and label_encoder\n",
    "import pickle\n",
    "\n",
    "# saving\n",
    "with open(save_path+'tokenizer.pickle', 'wb') as handle:\n",
    "    pickle.dump(tokenizer, handle, protocol=pickle.HIGHEST_PROTOCOL)\n",
    "\n",
    "# with open(save_path+'label_encoder.pickle', 'wb') as handle:\n",
    "#     pickle.dump(label_encoder, handle, protocol=pickle.HIGHEST_PROTOCOL)"
   ]
  },
  {
   "cell_type": "markdown",
   "metadata": {},
   "source": [
    "## Functions to Export"
   ]
  },
  {
   "cell_type": "code",
   "execution_count": null,
   "metadata": {},
   "outputs": [],
   "source": [
    "import numpy as np\n",
    "import pickle\n",
    "from tensorflow.keras.preprocessing.sequence import pad_sequences\n",
    "from tensorflow.keras.models import load_model"
   ]
  },
  {
   "cell_type": "code",
   "execution_count": null,
   "metadata": {},
   "outputs": [],
   "source": [
    "def load_tokenizer(path):\n",
    "    '''\n",
    "        load tokenizer for abstract processing\n",
    "    '''\n",
    "\n",
    "    with open(path, 'rb') as handle:\n",
    "        tokenizer = pickle.load(handle)\n",
    "        \n",
    "    return tokenizer\n",
    "\n",
    "# def load_label_encoder(path):\n",
    "#     '''\n",
    "#         loading label encoder for journal name processing\n",
    "#     '''\n",
    "\n",
    "#     with open(path, 'rb') as handle:\n",
    "#         label_encoder = pickle.load(handle)\n",
    "\n",
    "#     return label_encoder"
   ]
  },
  {
   "cell_type": "code",
   "execution_count": null,
   "metadata": {},
   "outputs": [],
   "source": [
    "def preprocess_abstract(abstract, tokenizer, label=None):\n",
    "    '''\n",
    "        Function to preprocess abstract before classification \n",
    "\n",
    "        arguments:\n",
    "            abstract = raw abstract in string\n",
    "            tokenizer = tokenizer used by model for training\n",
    "            label = label of abstrat (for testing purposes only)\n",
    "\n",
    "        The output is an array of integer ID for each word with the same length of 250.\n",
    "        the words are arranged by order or apperance. only first words are retained. \n",
    "\n",
    "        if words is less than 250, the remaining spaces will be filled with zeros\n",
    "        if words is greater than 250, the excess words will be ignored\n",
    "    '''\n",
    "    \n",
    "    ## Text Preprocessing\n",
    "    abstract = abstract.lower().split(\" \")\n",
    "    abstract = [''.join([letter for letter in word if letter.isalpha()]) for word in abstract]\n",
    "    abstract = [word for word in abstract if word not in stop_words]\n",
    "    abstract = ' '.join(abstract)\n",
    "    \n",
    "    ## Assign unique ID to each word in abstract\n",
    "    sequences = tokenizer.texts_to_sequences([abstract])\n",
    "\n",
    "    ## Fill with zeros or Truncate array of word IDs. Max length is 250.\n",
    "    pad_trunc_sequences = pad_sequences(sequences, maxlen=200, padding='post', truncating='post')\n",
    "\n",
    "    return pad_trunc_sequences, label"
   ]
  },
  {
   "cell_type": "code",
   "execution_count": null,
   "metadata": {},
   "outputs": [],
   "source": [
    "def classify(input_data, model):\n",
    "    '''\n",
    "        Function to classify processed abstract \n",
    "        arguments: \n",
    "            input_data = processed abstract\n",
    "            model = A.I. model\n",
    "            label_encoder = label_encoder used by model for training\n",
    "\n",
    "        the output of the function is the journal name\n",
    "    '''\n",
    "\n",
    "    ## classify abstract using model\n",
    "    output = model(input_data)\n",
    "\n",
    "    ## Get the highest probability of classification\n",
    "    output = np.argmax(output)\n",
    "\n",
    "    ## Get the journal name equivalent of the output of classification\n",
    "    journal = output + 1\n",
    "\n",
    "    ## replace _ with whitespace in the journal name\n",
    "    # journal = ' '.join(journal[0].split('_'))\n",
    "    \n",
    "    return journal"
   ]
  },
  {
   "cell_type": "code",
   "execution_count": null,
   "metadata": {},
   "outputs": [
    {
     "name": "stdout",
     "output_type": "stream",
     "text": [
      "Classification Output: 3\n"
     ]
    }
   ],
   "source": [
    "## Load tokenizer and encoder\n",
    "tokenizer = load_tokenizer(save_path+'//tokenizer.pickle')\n",
    "# label_encoder = load_label_encoder(save_path+'//label_encoder.pickle')\n",
    "\n",
    "## load model\n",
    "model = load_model(save_path+'//model.h5')\n",
    "\n",
    "## Preprocess abstract\n",
    "sample_number = 23\n",
    "sample_text = '''\n",
    "Electric load forecasting for buildings is important as it assists building managers or system operators to plan energy usage and strategize accordingly. Recent increases in the adoption of advanced metering infrastructure (AMI) have made building electrical consumption data available, and this has increased the feasibility of data-driven load forecasting. Self-organizing map (SOM) has been successfully utilized to cluster a dataset into subsets containing similar data points. These subsets are then used to train the forecasting models to improve forecasting accuracy. However, some buildings may have insufficient data since newly installed monitoring devices such as AMI have no choice but to collect a limited amount of data. Using a clustering technique on small datasets could lead to overfitting when using forecasting models following an SOM network to be trained with clusters. This results in a relatively high generalization error. In this study, we propose to address this problem by employing the stacking ensemble learning method (SELM) that is well-known for its generalization ability. An experimental study was conducted using the electricity consumption data of an actual institutional building and meteorological data. Our proposed model outperformed other baseline models, which means it successfully mitigates the effect of overfitting.\n",
    "'''\n",
    "input_data, input_label = preprocess_abstract(sample_text,tokenizer, label = data[sample_number]['journal_id'])\n",
    "\n",
    "## classify abstract\n",
    "result = classify(input_data, model)\n",
    "\n",
    "## results\n",
    "# print('Ground Truth:',input_label)\n",
    "print('Classification Output:',result)"
   ]
  },
  {
   "cell_type": "code",
   "execution_count": null,
   "metadata": {},
   "outputs": [
    {
     "name": "stdout",
     "output_type": "stream",
     "text": [
      "Accuracy of model: 100.00%\n"
     ]
    }
   ],
   "source": [
    "predictions = []\n",
    "ground = []\n",
    "for i in range(len(data)):\n",
    "    input_data, input_label = preprocess_abstract(data[i]['abstract'],tokenizer, label = data[i]['journal_id'])\n",
    "\n",
    "    ## classify abstract\n",
    "    result = classify(input_data, model)\n",
    "\n",
    "    # print(\"Truth: {:d} Pred: {:d}\".format(input_label, result))\n",
    "\n",
    "    ground.append(input_label)\n",
    "    predictions.append(result)\n",
    "\n",
    "from sklearn.metrics import accuracy_score\n",
    "print(\"Accuracy of model: {:.2f}%\".format(accuracy_score(ground, predictions)*100))"
   ]
  },
  {
   "cell_type": "code",
   "execution_count": null,
   "metadata": {},
   "outputs": [
    {
     "data": {
      "text/plain": [
       "array([[ 224, 1097,    2,   20,   43,  353,   24,  590,  642,    3, 1236,\n",
       "         130, 1025,  522,    2, 1515, 1026,  165,  180,   33,   17,  590,\n",
       "          43,  353, 2038,  540,  151,  925,  116,  549,  683,  353,   34,\n",
       "        1736,    3,    9,   13,   14, 1209,  125,    2,  598,  213, 1737,\n",
       "         353,   43,   24, 1144,    9,   14,   70,   13,    2,   99,  218,\n",
       "         310,   11,   13, 1738,   16,  138,  926,  336, 1363,   13,    0,\n",
       "           0,    0,    0,    0,    0,    0,    0,    0,    0,    0,    0,\n",
       "           0,    0,    0,    0,    0,    0,    0,    0,    0,    0,    0,\n",
       "           0,    0,    0,    0,    0,    0,    0,    0,    0,    0,    0,\n",
       "           0,    0,    0,    0,    0,    0,    0,    0,    0,    0,    0,\n",
       "           0,    0,    0,    0,    0,    0,    0,    0,    0,    0,    0,\n",
       "           0,    0,    0,    0,    0,    0,    0,    0,    0,    0,    0,\n",
       "           0,    0,    0,    0,    0,    0,    0,    0,    0,    0,    0,\n",
       "           0,    0,    0,    0,    0,    0,    0,    0,    0,    0,    0,\n",
       "           0,    0,    0,    0,    0,    0,    0,    0,    0,    0,    0,\n",
       "           0,    0,    0,    0,    0,    0,    0,    0,    0,    0,    0,\n",
       "           0,    0,    0,    0,    0,    0,    0,    0,    0,    0,    0,\n",
       "           0,    0,    0,    0,    0,    0,    0,    0,    0,    0,    0,\n",
       "           0,    0]])"
      ]
     },
     "execution_count": 1102,
     "metadata": {},
     "output_type": "execute_result"
    }
   ],
   "source": [
    "input_data"
   ]
  },
  {
   "cell_type": "markdown",
   "metadata": {},
   "source": [
    "# SVM Classifier"
   ]
  },
  {
   "cell_type": "code",
   "execution_count": null,
   "metadata": {},
   "outputs": [],
   "source": [
    "# import pandas as pd\n",
    "# import numpy as np\n",
    "# from nltk.tokenize import word_tokenize\n",
    "# from nltk import pos_tag\n",
    "# from nltk.corpus import stopwords\n",
    "# from nltk.stem import WordNetLemmatizer\n",
    "# from sklearn.preprocessing import LabelEncoder\n",
    "# from collections import defaultdict\n",
    "# from nltk.corpus import wordnet as wn\n",
    "# from sklearn.feature_extraction.text import TfidfVectorizer\n",
    "# from sklearn import model_selection, naive_bayes, svm\n",
    "# from sklearn.metrics import accuracy_score\n",
    "# import nltk\n",
    "# nltk.download('punkt')\n",
    "# nltk.download('averaged_perceptron_tagger')"
   ]
  },
  {
   "cell_type": "code",
   "execution_count": null,
   "metadata": {},
   "outputs": [],
   "source": [
    "# import random\n",
    "# # Bundle the two lists into a single one\n",
    "# labels = [ '_'.join(sub['journal'].split(' ')) for n,sub in enumerate(data) ]\n",
    "# sentences_and_labels = list(zip(overviews, labels))\n",
    "\n",
    "# # # Perform random sampling\n",
    "# # random.seed(42)\n",
    "# sentences_and_labels = random.sample(sentences_and_labels, len(overviews))\n",
    "\n",
    "# # Unpack back into separate lists\n",
    "# sentences, labels = zip(*sentences_and_labels)\n",
    "\n",
    "# print(f\"There are {len(sentences)} sentences and {len(labels)} labels\\n\")\n",
    "# Corpus = overviews"
   ]
  },
  {
   "cell_type": "code",
   "execution_count": null,
   "metadata": {},
   "outputs": [],
   "source": [
    "# # Step - b : Change all the text to lower case. This is required as python interprets 'dog' and 'DOG' differently\n",
    "# Corpus = [entry.lower() for entry in Corpus]\n",
    "# # Step - c : Tokenization : In this each entry in the corpus will be broken into set of words\n",
    "# Corpus= [word_tokenize(entry) for entry in Corpus]\n",
    "# # Step - d : Remove Stop words, Non-Numeric and perfom Word Stemming/Lemmenting.\n",
    "# # WordNetLemmatizer requires Pos tags to understand if the word is noun or verb or adjective etc. By default it is set to Noun\n",
    "# tag_map = defaultdict(lambda : wn.NOUN)\n",
    "# tag_map['J'] = wn.ADJ\n",
    "# tag_map['V'] = wn.VERB\n",
    "# tag_map['R'] = wn.ADV\n",
    "# for index,entry in enumerate(Corpus):\n",
    "#     # Declaring Empty List to store the words that follow the rules for this step\n",
    "#     Final_words = []\n",
    "#     # Initializing WordNetLemmatizer()\n",
    "#     word_Lemmatized = WordNetLemmatizer()\n",
    "#     # pos_tag function below will provide the 'tag' i.e if the word is Noun(N) or Verb(V) or something else.\n",
    "#     for word, tag in pos_tag(entry):\n",
    "#         # Below condition is to check for Stop words and consider only alphabets\n",
    "#         if word not in stopwords.words('english') and word.isalpha():\n",
    "#             word_Final = word_Lemmatized.lemmatize(word,tag_map[tag[0]])\n",
    "#             Final_words.append(word_Final)\n",
    "#     # The final processed set of words for each iteration will be stored in 'text_final'\n",
    "#     Corpus[index] = str(Final_words)"
   ]
  },
  {
   "cell_type": "code",
   "execution_count": null,
   "metadata": {},
   "outputs": [],
   "source": [
    "# Train_X, Test_X, Train_Y, Test_Y = model_selection.train_test_split(Corpus,labels,test_size=0.2)"
   ]
  },
  {
   "cell_type": "code",
   "execution_count": null,
   "metadata": {},
   "outputs": [],
   "source": [
    "# Encoder = LabelEncoder()\n",
    "# Train_Y = Encoder.fit_transform(Train_Y)\n",
    "# Test_Y = Encoder.fit_transform(Test_Y)"
   ]
  },
  {
   "cell_type": "code",
   "execution_count": null,
   "metadata": {},
   "outputs": [],
   "source": [
    "# Tfidf_vect = TfidfVectorizer(max_features=1000)\n",
    "# Tfidf_vect.fit(Corpus)\n",
    "# Train_X_Tfidf = Tfidf_vect.transform(Train_X)\n",
    "# Test_X_Tfidf = Tfidf_vect.transform(Test_X)"
   ]
  },
  {
   "cell_type": "code",
   "execution_count": null,
   "metadata": {},
   "outputs": [],
   "source": [
    "# print(Tfidf_vect.vocabulary_)"
   ]
  },
  {
   "cell_type": "code",
   "execution_count": null,
   "metadata": {},
   "outputs": [],
   "source": [
    "# # Classifier - Algorithm - SVM\n",
    "# # fit the training dataset on the classifier\n",
    "# SVM = svm.SVC(C=2, kernel='rbf', degree=3)\n",
    "# SVM.fit(Train_X_Tfidf,Train_Y)\n",
    "# # predict the labels on validation dataset\n",
    "# predictions_SVM = SVM.predict(Test_X_Tfidf)\n",
    "# # Use accuracy_score function to get the accuracy\n",
    "# print(\"SVM Train Accuracy  Score -> \",accuracy_score(predictions_SVM, Test_Y)*100)\n",
    "# print(\"SVM Test Accuracy Score -> \",accuracy_score(predictions_SVM, Test_Y)*100)"
   ]
  },
  {
   "cell_type": "code",
   "execution_count": null,
   "metadata": {},
   "outputs": [],
   "source": []
  }
 ],
 "metadata": {
  "kernelspec": {
   "display_name": "flask_venv",
   "language": "python",
   "name": "python3"
  },
  "language_info": {
   "codemirror_mode": {
    "name": "ipython",
    "version": 3
   },
   "file_extension": ".py",
   "mimetype": "text/x-python",
   "name": "python",
   "nbconvert_exporter": "python",
   "pygments_lexer": "ipython3",
   "version": "3.11.5"
  }
 },
 "nbformat": 4,
 "nbformat_minor": 2
}
